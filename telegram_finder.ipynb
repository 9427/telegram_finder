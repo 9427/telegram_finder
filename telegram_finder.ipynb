{
 "cells": [
  {
   "cell_type": "code",
   "execution_count": 5,
   "metadata": {},
   "outputs": [],
   "source": [
    "from bs4 import BeautifulSoup\n",
    "import pandas as pd\n",
    "import random\n",
    "import re\n",
    "import requests\n",
    "import time"
   ]
  },
  {
   "cell_type": "code",
   "execution_count": 6,
   "metadata": {},
   "outputs": [],
   "source": [
    "def get(query, timeout=5, max_retries=5, backoff_factor=0.3):\n",
    "    \"\"\" Выполнить GET-запрос\n",
    "\n",
    "    :param query: запрос с адресом\n",
    "    :param timeout: максимальное время ожидания ответа от сервера\n",
    "    :param max_retries: максимальное число повторных запросов\n",
    "    :param backoff_factor: коэффициент экспоненциального нарастания задержки\n",
    "    \"\"\"\n",
    "    delay = 0\n",
    "    for i in range(max_retries):\n",
    "        try:\n",
    "            response = requests.get(query)\n",
    "            return response.json()\n",
    "        except:\n",
    "            pass\n",
    "        time.sleep(delay)\n",
    "        delay = min(delay * backoff_factor, timeout)\n",
    "        delay += random.random()\n",
    "    return response"
   ]
  },
  {
   "cell_type": "code",
   "execution_count": 7,
   "metadata": {},
   "outputs": [],
   "source": [
    "def trim_links(link):\n",
    "    if link[-1] == '/':\n",
    "        link = link[:-1]\n",
    "    clean_link = link[link.rfind(\"/\")+1:]\n",
    "    return clean_link"
   ]
  },
  {
   "cell_type": "markdown",
   "metadata": {},
   "source": [
    "# telegram finder  \n",
    "принимает на ввод ссылку, обрезает ее, проверяет, существует ли такой акк в телеге  \n",
    "для работы запустите все ячейки тетради (контекстное меню сверху \"Cell\" -> выбрать \"Run All\")."
   ]
  },
  {
   "cell_type": "code",
   "execution_count": 10,
   "metadata": {},
   "outputs": [
    {
     "name": "stdin",
     "output_type": "stream",
     "text": [
      "вставляй сюда ссылку с ником на конце https://www.linkedin.com/in/vladislavvladimirovichv/\n"
     ]
    },
    {
     "name": "stdout",
     "output_type": "stream",
     "text": [
      "Влад Васильев - https://telegram.me/vladislavvladimirovichv\n"
     ]
    }
   ],
   "source": [
    "link = input('вставляй сюда ссылку с ником на конце')\n",
    "s = trim_links(link)\n",
    "query = 'https://telegram.me/' + s\n",
    "response = get(query)\n",
    "soup = BeautifulSoup(response.text, 'html.parser')\n",
    "name = soup.find(\"div\", class_=\"tgme_page_title\").text\n",
    "if name:\n",
    "    print(name, '-', query)\n",
    "else:\n",
    "    print('такого аккаунта нет')"
   ]
  },
  {
   "cell_type": "code",
   "execution_count": null,
   "metadata": {},
   "outputs": [],
   "source": []
  }
 ],
 "metadata": {
  "kernelspec": {
   "display_name": "Python 3",
   "language": "python",
   "name": "python3"
  },
  "language_info": {
   "codemirror_mode": {
    "name": "ipython",
    "version": 3
   },
   "file_extension": ".py",
   "mimetype": "text/x-python",
   "name": "python",
   "nbconvert_exporter": "python",
   "pygments_lexer": "ipython3",
   "version": "3.8.5"
  }
 },
 "nbformat": 4,
 "nbformat_minor": 4
}
